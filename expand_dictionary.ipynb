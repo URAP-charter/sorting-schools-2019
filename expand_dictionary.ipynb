{
 "cells": [
  {
   "cell_type": "markdown",
   "metadata": {},
   "source": [
    "# <p style=\"text-align: center;\"> Creating and Refining Dictionary with Word Embedding Models"
   ]
  },
  {
   "cell_type": "markdown",
   "metadata": {},
   "source": [
    "<p style=\"text-align: left;\">Charter School Identities Project<br/><br/>Creator: Jaren Haber, PhD Candidate<br/>Institution: Department of Sociology, University of California, Berkeley<br/>Date created: July 20, 2018<br/>Date last modified: October 29, 2019\n",
    "    \n",
    "Description: This notebook views the word embedding model generated from charter school websites and uses it to expand and refine a dictionary for the educational ideology of inquiry-based learning."
   ]
  },
  {
   "cell_type": "markdown",
   "metadata": {},
   "source": [
    "## Initialize Python"
   ]
  },
  {
   "cell_type": "code",
   "execution_count": 1,
   "metadata": {},
   "outputs": [],
   "source": [
    "# Import key packages\n",
    "import gensim # for word embedding models\n",
    "import _pickle as cPickle # Optimized version of pickle\n",
    "import gc # For managing garbage collector\n",
    "from collections import Counter # For counting terms across the corpus\n",
    "\n",
    "# Import functions from other scripts\n",
    "import sys; sys.path.insert(0, \"../data_management/tools/\") # To load functions from files in data_management/tools\n",
    "from textlist_file import write_list, load_list # For saving and loading text lists to/from file\n",
    "from df_tools import check_df, convert_df, load_filtered_df, replace_df_nulls # For displaying basic DF info, storing DFs for memory efficiency, and loading a filtered DF\n",
    "from quickpickle import quickpickle_dump, quickpickle_load # For quickly loading & saving pickle files in Python\n",
    "#import count_dict # For counting word frequencies in corpus (to assess candidate words)\n",
    "#from count_dict import load_dict, Page, dict_precalc, dict_count, create_cols, count_words, collect_counts, count_master"
   ]
  },
  {
   "cell_type": "code",
   "execution_count": 2,
   "metadata": {},
   "outputs": [],
   "source": [
    "# FOR CLEANING, TOKENIZING, AND STEMMING THE TEXT\n",
    "from nltk import word_tokenize, sent_tokenize # widely used text tokenizer\n",
    "from nltk.stem.porter import PorterStemmer # approximate but effective (and common) method of normalizing words: stems words by implementing a hierarchy of linguistic rules that transform or cut off word endings"
   ]
  },
  {
   "cell_type": "code",
   "execution_count": 3,
   "metadata": {},
   "outputs": [
    {
     "name": "stdout",
     "output_type": "stream",
     "text": [
      "Populating the interactive namespace from numpy and matplotlib\n"
     ]
    }
   ],
   "source": [
    "# FOR VISUALIZATIONS\n",
    "import matplotlib\n",
    "import matplotlib.pyplot as plt\n",
    "from sklearn.manifold import TSNE # For visualizing word embeddings\n",
    "from scipy.spatial import distance # To use cosine distances for tSNE metric\n",
    "\n",
    "# Visualization parameters\n",
    "%pylab inline \n",
    "%matplotlib inline\n",
    "#matplotlib.style.use('white')\n",
    "\n",
    "import seaborn as sns # To make matplotlib prettier\n",
    "sns.set(style='white')\n",
    "#sns.despine()"
   ]
  },
  {
   "cell_type": "code",
   "execution_count": 4,
   "metadata": {},
   "outputs": [],
   "source": [
    "# Define file paths\n",
    "home = '/home/jovyan/work/'\n",
    "wem_path = home + 'wem4themes/data/wem_model_300dims.bin' # path to WEM model\n",
    "charter_path = home + 'misc_data/charters_2015.pkl' # path to charter school data file\n",
    "dict_path = home + 'text_analysis/dictionary_methods/dicts/' # path to dictionary files (may not be used here)"
   ]
  },
  {
   "cell_type": "code",
   "execution_count": 5,
   "metadata": {
    "scrolled": true
   },
   "outputs": [
    {
     "name": "stdout",
     "output_type": "stream",
     "text": [
      "# rows and cols:  (10965, 2)\n",
      "# duplicates by NCESSCH: 0\n",
      "\n",
      "Columns and # missing cases (if any): \n",
      "NCESSCH\n",
      "WEBTEXT\n"
     ]
    }
   ],
   "source": [
    "# For counting term frequencies, load text corpus:\n",
    "df = load_filtered_df(charter_path, [\"WEBTEXT\", \"NCESSCH\"])\n",
    "df['WEBTEXT']=df['WEBTEXT'].fillna('') # turn nan to empty iterable for future convenience"
   ]
  },
  {
   "cell_type": "markdown",
   "metadata": {},
   "source": [
    "## Define helper functions"
   ]
  },
  {
   "cell_type": "code",
   "execution_count": 6,
   "metadata": {
    "scrolled": true
   },
   "outputs": [],
   "source": [
    "def dict_cohere(thisdict, wem_model):\n",
    "    '''Computes the average cosine similarity score of terms within one dictionary with all other terms in that same dictionary,\n",
    "    effectively measuring the coherence of the dictionary.\n",
    "    ...question for development: does it make sense to compare the average cosine similarity score between all terms \n",
    "    in thisdict and the average cosine similarity among the total model vocabulary? (Could that be, by definition, 0?)\n",
    "    \n",
    "    NOTE: For an unknown reason, calling this function deletes terms from thisdict.\n",
    "    \n",
    "    Inputs: List of key terms, word2vec model.\n",
    "    Output: Average cosine similarity score of each word with all other words in the list of key terms.'''\n",
    "    \n",
    "    # Initialize average distance variables:\n",
    "    word_avg_dist = 0\n",
    "    word_avg_dists = 0\n",
    "    dict_avg_sim = 0\n",
    "    all_avg_dists = 0\n",
    "    model_avg_dists = 0\n",
    "    \n",
    "    # Compute average cosine similarity score of each word with other dict words:\n",
    "    for word in thisdict:\n",
    "        word_avg_dist = (wem_model.distances(word, other_words=thisdict).sum())/len(thisdict) # Total diffs of word with all other words, take average\n",
    "        word_avg_dists += word_avg_dist # Add up each average distance, incrementally\n",
    "    dict_avg_sim = 1 - word_avg_dists/len(thisdict) # Find average cosine similarity score by subtracting avg. distance from 1\n",
    "\n",
    "    # For comparison, compute average cosine similarity score of each word with ALL other words in the model vocabulary:\n",
    "    #for word in thisdict:\n",
    "    #    all_avg_dist = (wem_model.distances(word).sum())/len(model.vocab) # Default is to compare each word with all words\n",
    "    #    all_avg_dists += all_avg_dist\n",
    "    #model_avg_dist = 1 - all_avg_dists/len(model.vocab) # Find average cosine similarity score by subtracting avg. distance from 1\n",
    "\n",
    "    #print(\"Average cosine similarities by word for this dictionary:       \\t\" + str(dict_avg_dist))\n",
    "    #print(\"Compare to avg. cosine similarities by dict words to ALL words:\\t\" + str(model_avg_dist))\n",
    "    \n",
    "    return dict_avg_sim"
   ]
  },
  {
   "cell_type": "code",
   "execution_count": 7,
   "metadata": {},
   "outputs": [],
   "source": [
    "def expand_dict(thisdict, coredict, maxlen, wem_model):\n",
    "    '''TO DO: Create function to implement random additions to core dictionary, \n",
    "    in contrast to removing least similar word vectors--as focus_dict() does.'''\n",
    "    \n",
    "    #code here\n",
    "    \n",
    "    thisdict = list(set(thisdict)) # Remove any duplicates\n",
    "    \n",
    "    if len(thisdict) != maxlen: # Quality check\n",
    "        print(\"WARNING: Function produced a dictionary of length \" + str(len(thisdict)) + \\\n",
    "              \", which is not the specified maximum dict length of \" + str(maxlen))\n",
    "    \n",
    "    return thisdict"
   ]
  },
  {
   "cell_type": "code",
   "execution_count": 8,
   "metadata": {},
   "outputs": [],
   "source": [
    "def focus_dict(thisdict, coredict, maxlen, wem_model):\n",
    "    '''Focus thisdict by removing least similar word vectors until reaching maxlen.\n",
    "    If any words from coredict get removed, compensate for fact that they will get added back in.\n",
    "        \n",
    "    Input: A list of terms, core terms not to remove, desired length, and word2vec model.\n",
    "    Output: The input list focused down to desired length, and still containing all the core terms.'''\n",
    "\n",
    "    core_count = 0 # Counts number of coredict terms that were removed\n",
    "    extend_count = 0 # Counts number of terms removed to offset the coming boost of core terms (that were removed and will be added back in)\n",
    "\n",
    "    while len(thisdict) > maxlen: # Narrow thisdict down to maxlen\n",
    "        badvar = model.doesnt_match(thisdict) # Find least matching term\n",
    "        thisdict.remove(badvar) # Remove that least focal term, to focus dict\n",
    "        if badvar in coredict: # Keep track of number of core terms removed\n",
    "            core_count += 1\n",
    "\n",
    "    while extend_count < core_count: # Remove terms until length = maxlen - number of core terms removed (to offset those core terms that will be added back in later in this script)\n",
    "        badvar = model.doesnt_match(thisdict) # Find least matching term\n",
    "        thisdict.remove(badvar) # Remove that least focal term, to focus dict\n",
    "        extend_count += 1 # Keep track of # non-core terms added\n",
    "        if badvar in coredict: # Keep track of number of core terms removed\n",
    "            core_count += 1\n",
    "            \n",
    "    for term in coredict: # Add back in any missing core terms\n",
    "        if term not in thisdict and term in list(model.vocab):\n",
    "            thisdict.append(term)\n",
    "            \n",
    "    thisdict = list(set(thisdict)) # Remove any duplicates\n",
    "    \n",
    "    if len(thisdict) != maxlen: # Quality check\n",
    "        print(\"WARNING: Function produced a dictionary of length \" + str(len(thisdict)) + \\\n",
    "              \", which is not the specified maximum dict length of \" + str(maxlen))\n",
    "    \n",
    "    return thisdict "
   ]
  },
  {
   "cell_type": "code",
   "execution_count": 9,
   "metadata": {},
   "outputs": [],
   "source": [
    "def display_closestwords(wem_model, word, plotnumber):\n",
    "    '''Use tSNE to display a spatial map (i.e., scatterplot) of words vectors close to given word in Word2Vec model.\n",
    "    Projects each word to a 2D space (a reduction from model size) and plots the position of each word with a label.\n",
    "    Based on this blog: \n",
    "    https://medium.com/@aneesha/using-tsne-to-plot-a-subset-of-similar-words-from-word2vec-bb8eeaea6229)\n",
    "    \n",
    "    TO DO: Incorporate bold seed terms, OPTION for getting most similar words\n",
    "    \n",
    "    Args:\n",
    "        Word2Vec model\n",
    "        Input word\n",
    "        Number of words to plot\n",
    "    Returns:\n",
    "        Visualization of relationships between given word and its closest word vectors\n",
    "    '''\n",
    "    \n",
    "    dimensions = 300\n",
    "    \n",
    "    arr = np.empty((0,dimensions), dtype='f')\n",
    "    word_labels = [word]\n",
    "\n",
    "    # get close words\n",
    "    close_words = wem_model.similar_by_word(word, plotnumber)\n",
    "    \n",
    "    # add the vector for each of the closest words to the array\n",
    "    arr = np.append(arr, np.array([model[word]]), axis=0)\n",
    "    for wrd_score in close_words:\n",
    "        wrd_vector = model[wrd_score[0]]\n",
    "        word_labels.append(wrd_score[0])\n",
    "        arr = np.append(arr, np.array([wrd_vector]), axis=0)\n",
    "        \n",
    "    # find tsne coords for 2 dimensions\n",
    "    tsne = TSNE(n_components=2, random_state=0, metric=distance.cosine)\n",
    "    np.set_printoptions(suppress=True)\n",
    "    Y = tsne.fit_transform(arr)\n",
    "\n",
    "    x_coords = Y[:, 0]\n",
    "    y_coords = Y[:, 1]\n",
    "    \n",
    "    sns.set(style='whitegrid')\n",
    "    \n",
    "    # display scatter plot\n",
    "    fig, ax = plt.subplots(figsize=(20,20))\n",
    "    ax.scatter(x_coords, y_coords, alpha=1, color='b')\n",
    "\n",
    "    for label, x, y in zip(word_labels, x_coords, y_coords):\n",
    "        plt.annotate(label, xy=(x, y), xytext=(0, 0), textcoords='offset points').set_fontsize(20)\n",
    "    plt.xlim(x_coords.min()+10, x_coords.max()+10)\n",
    "    plt.ylim(y_coords.min()+10, y_coords.max()+10)\n",
    "    plt.show()"
   ]
  },
  {
   "cell_type": "markdown",
   "metadata": {},
   "source": [
    "## Load word embedding model"
   ]
  },
  {
   "cell_type": "code",
   "execution_count": 10,
   "metadata": {
    "scrolled": true
   },
   "outputs": [],
   "source": [
    "model = gensim.models.KeyedVectors.load_word2vec_format(wem_path, binary=True) # Load word2vec model"
   ]
  },
  {
   "cell_type": "code",
   "execution_count": 11,
   "metadata": {},
   "outputs": [
    {
     "name": "stdout",
     "output_type": "stream",
     "text": [
      "481295\n"
     ]
    },
    {
     "data": {
      "text/plain": [
       "['a',\n",
       " 'about',\n",
       " 'academic',\n",
       " 'academics',\n",
       " 'academy',\n",
       " 'activities',\n",
       " 'admissions',\n",
       " 'after',\n",
       " 'all',\n",
       " 'also',\n",
       " 'am',\n",
       " 'an',\n",
       " 'and',\n",
       " 'any',\n",
       " 'application',\n",
       " 'apply',\n",
       " 'april',\n",
       " 'are',\n",
       " 'arts',\n",
       " 'as',\n",
       " 'at',\n",
       " 'athletics',\n",
       " 'back',\n",
       " 'be',\n",
       " 'board',\n",
       " 'board_of_directors',\n",
       " 'by',\n",
       " 'calendar',\n",
       " 'campus',\n",
       " 'can',\n",
       " 'careers',\n",
       " 'center',\n",
       " 'charter',\n",
       " 'child',\n",
       " 'children',\n",
       " 'class',\n",
       " 'classroom',\n",
       " 'click',\n",
       " 'college',\n",
       " 'community',\n",
       " 'contact',\n",
       " 'contact_us',\n",
       " 'content',\n",
       " 'courses',\n",
       " 'curriculum',\n",
       " 'data',\n",
       " 'day',\n",
       " 'district',\n",
       " 'do',\n",
       " 'donate',\n",
       " 'dyslexia',\n",
       " 'each',\n",
       " 'education',\n",
       " 'educational',\n",
       " 'elementary',\n",
       " 'email',\n",
       " 'employment',\n",
       " 'english',\n",
       " 'enroll',\n",
       " 'enrollment',\n",
       " 'events',\n",
       " 'facebook',\n",
       " 'faculty',\n",
       " 'families',\n",
       " 'family',\n",
       " 'fax',\n",
       " 'first',\n",
       " 'for',\n",
       " 'form',\n",
       " 'forms',\n",
       " 'from',\n",
       " 'funding',\n",
       " 'grade',\n",
       " 'grades',\n",
       " 'handbook',\n",
       " 'has',\n",
       " 'have',\n",
       " 'help',\n",
       " 'her',\n",
       " 'here',\n",
       " 'high',\n",
       " 'history',\n",
       " 'home',\n",
       " 'homeschool',\n",
       " 'how',\n",
       " 'i',\n",
       " 'idea',\n",
       " 'if',\n",
       " 'in',\n",
       " 'info',\n",
       " 'information',\n",
       " 'instruction',\n",
       " 'is',\n",
       " 'it',\n",
       " 'january',\n",
       " 'june',\n",
       " 'kindergarten',\n",
       " 'leadership',\n",
       " 'learn',\n",
       " 'learning',\n",
       " 'library',\n",
       " 'life',\n",
       " 'links',\n",
       " 'login',\n",
       " 'lunch',\n",
       " 'march',\n",
       " 'math',\n",
       " 'may',\n",
       " 'me',\n",
       " 'menu',\n",
       " 'method',\n",
       " 'middle',\n",
       " 'minutes',\n",
       " 'mission',\n",
       " 'more',\n",
       " 'my',\n",
       " 'new',\n",
       " 'news',\n",
       " 'no',\n",
       " 'not',\n",
       " 'now',\n",
       " 'of',\n",
       " 'office',\n",
       " 'on',\n",
       " 'one',\n",
       " 'online',\n",
       " 'or',\n",
       " 'other',\n",
       " 'our',\n",
       " 'out',\n",
       " 'page',\n",
       " 'parent',\n",
       " 'parents',\n",
       " 'phone',\n",
       " 'photo_gallery',\n",
       " 'plan',\n",
       " 'please',\n",
       " 'pm',\n",
       " 'policies',\n",
       " 'policy',\n",
       " 'principal',\n",
       " 'problems',\n",
       " 'program',\n",
       " 'programs',\n",
       " 'public',\n",
       " 'read',\n",
       " 'reading',\n",
       " 'resources',\n",
       " 's',\n",
       " 'schedule',\n",
       " 'school',\n",
       " 'schools',\n",
       " 'science',\n",
       " 'search',\n",
       " 'service',\n",
       " 'services',\n",
       " 'she',\n",
       " 'spanish',\n",
       " 'special_education',\n",
       " 'staff',\n",
       " 'staff_directory',\n",
       " 'state',\n",
       " 'stem',\n",
       " 'student',\n",
       " 'students',\n",
       " 'success',\n",
       " 'summer',\n",
       " 'support',\n",
       " 'teacher',\n",
       " 'teachers',\n",
       " 'team',\n",
       " 'technology',\n",
       " 'that',\n",
       " 'the',\n",
       " 'their',\n",
       " 'they',\n",
       " 'this',\n",
       " 'through',\n",
       " 'time',\n",
       " 'to',\n",
       " 'up',\n",
       " 'us',\n",
       " 'useful_links',\n",
       " 'view',\n",
       " 'volunteer',\n",
       " 'was',\n",
       " 'we',\n",
       " 'website',\n",
       " 'welcome',\n",
       " 'what',\n",
       " 'when',\n",
       " 'which',\n",
       " 'who',\n",
       " 'why',\n",
       " 'will',\n",
       " 'with',\n",
       " 'work',\n",
       " 'year',\n",
       " 'you',\n",
       " 'your']"
      ]
     },
     "execution_count": 11,
     "metadata": {},
     "output_type": "execute_result"
    }
   ],
   "source": [
    "# dictionary of words in model (may not work for old gensim)\n",
    "print(len(model.vocab))\n",
    "sorted(list(model.vocab)[:200])"
   ]
  },
  {
   "cell_type": "markdown",
   "metadata": {},
   "source": [
    "## Inductive search"
   ]
  },
  {
   "cell_type": "markdown",
   "metadata": {},
   "source": [
    "### Inspect similar vectors"
   ]
  },
  {
   "cell_type": "code",
   "execution_count": 12,
   "metadata": {},
   "outputs": [],
   "source": [
    "# Repeat inductive process of exploration for a list of seed terms like:\n",
    "inqseed = ['inquiry-based', 'problem-based', 'discovery-based', 'experiential', 'constructivist']"
   ]
  },
  {
   "cell_type": "code",
   "execution_count": 13,
   "metadata": {},
   "outputs": [
    {
     "data": {
      "text/plain": [
       "[('integrated_interdisciplinary', 0.8495174646377563),\n",
       " ('technology-infused', 0.8478963375091553),\n",
       " ('hands-on_and_minds-on', 0.845363974571228),\n",
       " ('hands-on/minds-on', 0.8449170589447021),\n",
       " ('project-centered', 0.8422079086303711),\n",
       " ('discussion-based', 0.8401801586151123),\n",
       " ('problem-based_learning', 0.8382363319396973),\n",
       " ('experiential_approach', 0.8377059698104858),\n",
       " ('hands-on_minds-on', 0.8366389274597168),\n",
       " ('life-based', 0.8346015214920044),\n",
       " ('science-driven', 0.8336309194564819),\n",
       " ('language-rich', 0.8326779007911682),\n",
       " ('simulations_role-playing', 0.8310806155204773),\n",
       " ('cognitively_demanding', 0.8298742771148682),\n",
       " ('literacy-based', 0.8274999856948853),\n",
       " ('developmentally-based', 0.8263034820556641),\n",
       " ('sensory-rich', 0.8242142796516418),\n",
       " ('inquiry-driven', 0.8225501775741577),\n",
       " ('student-driven_exploration', 0.8221181035041809),\n",
       " ('hand-on', 0.8210930824279785)]"
      ]
     },
     "execution_count": 13,
     "metadata": {},
     "output_type": "execute_result"
    }
   ],
   "source": [
    "model.most_similar(inqseed, topn = 20)"
   ]
  },
  {
   "cell_type": "code",
   "execution_count": 14,
   "metadata": {
    "scrolled": true
   },
   "outputs": [
    {
     "data": {
      "text/plain": [
       "[('failure_and_academically-gifted', 0.6515583992004395),\n",
       " ('construction_management/general', 0.6038428544998169),\n",
       " ('academically_low-achieving', 0.6014186143875122),\n",
       " ('percentages_of_economically', 0.5981494188308716),\n",
       " ('disenfranchised_youth', 0.5930942296981812),\n",
       " ('at-risk_and_disadvantaged', 0.5930824279785156),\n",
       " ('high-ability_students', 0.5911412239074707),\n",
       " ('underachieving', 0.589192271232605),\n",
       " ('justice-involved', 0.5887687802314758),\n",
       " ('under-represented', 0.5879157185554504),\n",
       " ('low-income_and_minority', 0.5879122018814087),\n",
       " ('african-american_and_latino', 0.585237979888916),\n",
       " ('example_the_disenfranchised', 0.5846658945083618),\n",
       " ('out-of-school_youth', 0.5842435956001282),\n",
       " ('high-risk', 0.5792522430419922),\n",
       " ('high-needs', 0.5791978240013123),\n",
       " ('low-achieving', 0.578443169593811),\n",
       " ('better_my_life.', 0.5783981680870056),\n",
       " ('under-resourced', 0.5779532194137573),\n",
       " ('living_in_poverty', 0.5778278708457947),\n",
       " ('evidence-based_approaches', 0.5777392387390137),\n",
       " ('adjudicated_youth', 0.5761195421218872),\n",
       " ('pregnant/parenting', 0.5755578279495239),\n",
       " ('at-risk_adolescents', 0.5749838948249817),\n",
       " ('intellectually_gifted', 0.5731552839279175),\n",
       " ('low_achieving', 0.5727622509002686),\n",
       " ('considered_at-risk', 0.5725160837173462),\n",
       " ('youth_yaş', 0.5718940496444702),\n",
       " ('aimed_at_achieving', 0.5704052448272705),\n",
       " ('low\\xadincome', 0.5703068375587463)]"
      ]
     },
     "execution_count": 14,
     "metadata": {},
     "output_type": "execute_result"
    }
   ],
   "source": [
    "# Find the 30 words closest to test word:\n",
    "test_word = \"at-risk\"\n",
    "candidate_sims = model.most_similar(test_word, topn=30)\n",
    "candidates_list = [pair[0] for pair in candidate_sims] # Convert to list for frequency search below\n",
    "candidate_sims"
   ]
  },
  {
   "cell_type": "code",
   "execution_count": 15,
   "metadata": {},
   "outputs": [
    {
     "data": {
      "text/plain": [
       "[('zero-tolerance_policy', 0.6990004181861877),\n",
       " ('zero-tolerance', 0.6568768620491028),\n",
       " ('feels_s/he', 0.6339747905731201),\n",
       " ('hate-motivated', 0.6278372406959534),\n",
       " ('gang_policy-the', 0.6266128420829773),\n",
       " ('molestation_prevention', 0.6207634210586548),\n",
       " ('bulling', 0.6071662306785583),\n",
       " ('sexual/racial/religion', 0.6040709614753723),\n",
       " ('cyberbullying_harassment', 0.5921908617019653),\n",
       " ('offensive_or_provocative', 0.5916315317153931)]"
      ]
     },
     "execution_count": 15,
     "metadata": {},
     "output_type": "execute_result"
    }
   ],
   "source": [
    "model.most_similar(\"zero_tolerance\")"
   ]
  },
  {
   "cell_type": "code",
   "execution_count": 16,
   "metadata": {},
   "outputs": [],
   "source": [
    "riskseed = [\"high-need\", \"low-income\", \"high-poverty\", \"at-risk\", \"high-risk\"]\n",
    "risk20 = [\"high-need\", \"high-needs\", \n",
    "            \"low-income\", \"lower-income\", \"high-poverty\", \"impoverished\", \"economically_challenged\", \n",
    "            \"underserved\", \"under-served\", \"disproportionately\", \n",
    "            \"at-risk\", \"high-risk\", \"under-resourced\", \"under-represented\", \"under-performing\", \n",
    "            \"inner-city\", \"inner_cities\", \n",
    "            \"marginalized\", \"disconnected\", \"disenfranchised\"] #\"justice\", \"afflicting\""
   ]
  },
  {
   "cell_type": "code",
   "execution_count": 23,
   "metadata": {},
   "outputs": [
    {
     "data": {
      "text/plain": [
       "[('impoverished_areas', 0.8521490693092346),\n",
       " ('inner-city_neighborhoods', 0.8487109541893005),\n",
       " ('high-need_communities', 0.8366204500198364),\n",
       " ('predominantly_low-income', 0.8357141017913818),\n",
       " ('communities—and', 0.834736704826355),\n",
       " ('disconnected_youth', 0.8341152667999268),\n",
       " ('concentrations_of_low-income', 0.8339563608169556),\n",
       " ('historically_marginalized', 0.8304299116134644),\n",
       " ('upper-income', 0.8298649191856384),\n",
       " ('under-served_populations', 0.8291403651237488),\n",
       " ('youth-serving_agencies', 0.8260529041290283),\n",
       " ('tuition-based_private', 0.8223265409469604),\n",
       " ('african-american_and_latino', 0.8217678666114807),\n",
       " ('military-connected', 0.8214602470397949),\n",
       " ('justice-involved', 0.8207274675369263),\n",
       " ('traditionally_under-served', 0.8206344842910767),\n",
       " ('afflicting', 0.819398045539856),\n",
       " ('disenfranchised_youth', 0.8192448616027832),\n",
       " ('socio-economically_diverse', 0.8176484107971191),\n",
       " ('non-montessori', 0.815646767616272)]"
      ]
     },
     "execution_count": 23,
     "metadata": {},
     "output_type": "execute_result"
    }
   ],
   "source": [
    "model.most_similar(risk20, topn = 20)"
   ]
  },
  {
   "cell_type": "code",
   "execution_count": 24,
   "metadata": {
    "scrolled": true
   },
   "outputs": [
    {
     "name": "stderr",
     "output_type": "stream",
     "text": [
      "/opt/conda/lib/python3.7/site-packages/gensim/models/keyedvectors.py:877: FutureWarning: arrays to stack must be passed as a \"sequence\" type such as list or tuple. Support for non-sequence iterables such as generators is deprecated as of NumPy 1.16 and will raise an error in the future.\n",
      "  vectors = vstack(self.word_vec(word, use_norm=True) for word in used_words).astype(REAL)\n"
     ]
    },
    {
     "data": {
      "text/plain": [
       "'inner-city'"
      ]
     },
     "execution_count": 24,
     "metadata": {},
     "output_type": "execute_result"
    }
   ],
   "source": [
    "model.doesnt_match(risk20)"
   ]
  },
  {
   "cell_type": "markdown",
   "metadata": {},
   "source": [
    "### Overview of search process"
   ]
  },
  {
   "cell_type": "markdown",
   "metadata": {},
   "source": [
    "By using the model to look at similar words across terms, create a list of candidate terms for a bigger conceptual dictionary. Manually search all these candidate terms for those that are tightly conceptually related to the seed dictionary. This process blends data-driven search from the model with hand-driven search across the candidate terms."
   ]
  },
  {
   "cell_type": "code",
   "execution_count": 25,
   "metadata": {
    "scrolled": true
   },
   "outputs": [
    {
     "name": "stdout",
     "output_type": "stream",
     "text": [
      "\n",
      "T0P 15 WORDS CLOSEST TO inquiry-based\n",
      "('problem-based', 0.7188608646392822)\n",
      "('inquiry_based', 0.7165826559066772)\n",
      "('integrated_interdisciplinary', 0.7108476161956787)\n",
      "('literacy-based', 0.7067997455596924)\n",
      "('problem-based_learning', 0.705278754234314)\n",
      "('experiential_approach', 0.6990994215011597)\n",
      "('technology-infused', 0.6932752132415771)\n",
      "('student-driven_exploration', 0.6918015480041504)\n",
      "('prbl', 0.6899794340133667)\n",
      "('showcase_of_self-driven', 0.6882768273353577)\n",
      "('hands-on_and_minds-on', 0.687936007976532)\n",
      "('qcss_employs', 0.6855128407478333)\n",
      "('simulations_role-playing', 0.6846071481704712)\n",
      "('project-centered', 0.6826268434524536)\n",
      "('hands-on/minds-on', 0.6808892488479614)\n",
      "\n",
      "T0P 15 WORDS CLOSEST TO problem-based\n",
      "('problem-based_learning', 0.7890996932983398)\n",
      "('integrated_interdisciplinary', 0.7848905324935913)\n",
      "('content-specific_grade-by-grade', 0.7842892408370972)\n",
      "('laboratory-based', 0.7822384834289551)\n",
      "('hands-on_minds-on', 0.7795132398605347)\n",
      "('discussion-based', 0.7788670063018799)\n",
      "('design-based', 0.7777847051620483)\n",
      "('hands-on_and_minds-on', 0.777582049369812)\n",
      "('project-centered', 0.7771323919296265)\n",
      "('technology-infused', 0.7769192457199097)\n",
      "('life-based', 0.7765124440193176)\n",
      "('hands-on/minds-on', 0.7760508060455322)\n",
      "('socratic', 0.7760000228881836)\n",
      "('simulations_role-playing', 0.7742791175842285)\n",
      "('inquiry_arcs', 0.7734700441360474)\n",
      "\n",
      "T0P 15 WORDS CLOSEST TO discovery-based\n",
      "('learn-by-doing', 0.8363640308380127)\n",
      "('seminar-based', 0.8189511895179749)\n",
      "('language-rich', 0.8160936236381531)\n",
      "('unschooling_is_a_less', 0.8155924081802368)\n",
      "('developmentally-based', 0.8151591420173645)\n",
      "('nuturing', 0.8126906156539917)\n",
      "('values-centered', 0.8097946047782898)\n",
      "('developmentallyappropriate', 0.8090020418167114)\n",
      "('sensory-rich', 0.80750572681427)\n",
      "('project-centered', 0.8046090602874756)\n",
      "('explorative', 0.8015897274017334)\n",
      "('cognitively_demanding', 0.8008060455322266)\n",
      "('andinnovative', 0.8005708456039429)\n",
      "('literature-rich', 0.7991681694984436)\n",
      "('low-stress', 0.798554539680481)\n",
      "\n",
      "T0P 15 WORDS CLOSEST TO experiential\n",
      "('tomorrow_in_rockville', 0.6366349458694458)\n",
      "('integrative', 0.6330317258834839)\n",
      "('journey_for_tma', 0.6237869262695312)\n",
      "('sensory-rich', 0.6203253269195557)\n",
      "('nature-based', 0.6179972887039185)\n",
      "('non-arts_objectives', 0.6178889870643616)\n",
      "('inquiry-driven', 0.612930178642273)\n",
      "('teacher-guided', 0.6102246046066284)\n",
      "('fieldwork_experts', 0.6101946830749512)\n",
      "('hands-on/minds-on', 0.6096264123916626)\n",
      "('service-based', 0.6085801124572754)\n",
      "('literacy-based', 0.6079000234603882)\n",
      "('problem-based_learning', 0.6077450513839722)\n",
      "('project-centered', 0.6064910292625427)\n",
      "('curriculum_that_enhances', 0.6063675284385681)\n",
      "\n",
      "T0P 15 WORDS CLOSEST TO constructivist\n",
      "('constructivism', 0.7486873865127563)\n",
      "('technology-infused', 0.7210007309913635)\n",
      "('whole-brain', 0.7190081477165222)\n",
      "('child-led', 0.71506667137146)\n",
      "('technology-enriched', 0.7139584422111511)\n",
      "('didactic_materials', 0.7123608589172363)\n",
      "('discussion-based', 0.7111490368843079)\n",
      "('instructional_best-practices', 0.7071788907051086)\n",
      "('integrated_interdisciplinary', 0.707124650478363)\n",
      "('language-rich', 0.7067819833755493)\n",
      "('constructivist_approach', 0.7062184810638428)\n",
      "('brain-based', 0.7042311429977417)\n",
      "('hands-on_minds-on', 0.7038856744766235)\n",
      "('student-centered_inquiry-based', 0.7034156322479248)\n",
      "('developmentally-based', 0.7027567625045776)\n"
     ]
    }
   ],
   "source": [
    "# Find the 15 words closest to each term in seed dictionary:\n",
    "for term in inqseed:\n",
    "    print(\"\\nT0P 15 WORDS CLOSEST TO \" + term)\n",
    "    for line in list(model.most_similar(term, topn=15)):\n",
    "        print(line)\n",
    "\n",
    "#model.most_similar(\"problem-based\", topn=30)"
   ]
  },
  {
   "cell_type": "code",
   "execution_count": 26,
   "metadata": {
    "scrolled": true
   },
   "outputs": [
    {
     "data": {
      "text/plain": [
       "['integrated_interdisciplinary',\n",
       " 'technology-infused',\n",
       " 'hands-on_and_minds-on',\n",
       " 'hands-on/minds-on',\n",
       " 'project-centered',\n",
       " 'discussion-based',\n",
       " 'problem-based_learning',\n",
       " 'experiential_approach',\n",
       " 'hands-on_minds-on',\n",
       " 'life-based',\n",
       " 'science-driven',\n",
       " 'language-rich',\n",
       " 'simulations_role-playing',\n",
       " 'cognitively_demanding',\n",
       " 'literacy-based',\n",
       " 'developmentally-based',\n",
       " 'sensory-rich',\n",
       " 'inquiry-driven',\n",
       " 'student-driven_exploration',\n",
       " 'hand-on',\n",
       " 'whole-brain',\n",
       " 'hands‑on',\n",
       " 'active_inquiry',\n",
       " 'concrete_manipulative',\n",
       " 'content-specific_grade-by-grade',\n",
       " 'design-based',\n",
       " 'interdisciplinary_project-based',\n",
       " 'andinnovative',\n",
       " 'explorative',\n",
       " 'out-the-door',\n",
       " 'student-centered_inquiry-based',\n",
       " 'exploration_and_experimentation',\n",
       " 'thematic_integrated',\n",
       " 'experiential_project-based',\n",
       " 'seminar-based',\n",
       " 'socratic',\n",
       " 'experientially',\n",
       " 'literature-rich',\n",
       " 'interdisciplinary_and_multi-dimensional',\n",
       " 'interdisciplinary_explorations',\n",
       " 'inter-disciplinary',\n",
       " 'rigorous_skills-based',\n",
       " 'cross-disciplinary',\n",
       " 'socratic_dialogue',\n",
       " 'life-enhancing_skills',\n",
       " 'discovery-based_learning',\n",
       " 'movement-based',\n",
       " 'technology-enriched',\n",
       " 'siop_sheltered',\n",
       " 'child-centered_individualized']"
      ]
     },
     "execution_count": 26,
     "metadata": {},
     "output_type": "execute_result"
    }
   ],
   "source": [
    "# Can also look for most similar terms across seed dictionary as a whole, and use it to make new dictionary:\n",
    "inq50new = []\n",
    "for line in list(model.most_similar(inqseed, topn=50)):\n",
    "    #print(line[0]) # only print words\n",
    "    inq50new.append(line[0])\n",
    "inq50new"
   ]
  },
  {
   "cell_type": "code",
   "execution_count": 22,
   "metadata": {},
   "outputs": [
    {
     "data": {
      "text/plain": [
       "[('andinnovative', 0.9082848429679871),\n",
       " ('student-driven_exploration', 0.905834436416626),\n",
       " ('hands-on_and_minds-on', 0.9000217318534851),\n",
       " ('student-centered_inquiry-based', 0.8993304967880249),\n",
       " ('learn-by-doing', 0.8984565734863281),\n",
       " ('cognitively_demanding', 0.896692156791687),\n",
       " ('life-based', 0.8961136937141418),\n",
       " ('experiential_approach', 0.8954914808273315),\n",
       " ('whole-brain', 0.8943194150924683),\n",
       " ('content-specific_grade-by-grade', 0.8941212296485901),\n",
       " ('exploration_and_experimentation', 0.8932093381881714),\n",
       " ('language-rich', 0.891950786113739),\n",
       " ('proven_methodology', 0.891946017742157),\n",
       " ('rigorous_skills-based', 0.891916036605835),\n",
       " ('discussion-based', 0.8918140530586243),\n",
       " ('goal-driven', 0.8915873169898987),\n",
       " ('experiential_project-based', 0.8912684917449951),\n",
       " ('design-based', 0.8896303176879883),\n",
       " ('concrete_manipulative', 0.8890612125396729),\n",
       " ('science-driven', 0.888805627822876),\n",
       " ('iqwst', 0.887614369392395),\n",
       " ('life-enhancing_skills', 0.8874599933624268),\n",
       " ('multi-modality', 0.8868114948272705),\n",
       " ('hands-on/minds-on', 0.8863054513931274),\n",
       " ('sensory-rich', 0.886135458946228),\n",
       " ('skills.the', 0.8840631246566772),\n",
       " ('literature-rich', 0.8838809728622437),\n",
       " ('concept-driven', 0.883530855178833),\n",
       " ('common-core_aligned', 0.8827246427536011),\n",
       " ('cross-curricular_approach', 0.8825916647911072),\n",
       " ('seminar-based', 0.8806145191192627),\n",
       " ('movement-based', 0.8798118829727173),\n",
       " ('literacyinstruction', 0.87842857837677),\n",
       " ('technology-infused', 0.8780218958854675),\n",
       " ('inventive_thinking', 0.8773922920227051),\n",
       " ('activity-oriented', 0.8766010999679565),\n",
       " ('arts-integrated_approach', 0.8763177990913391),\n",
       " ('constructivist-based', 0.8757773637771606),\n",
       " ('inwhich', 0.8755730390548706),\n",
       " ('integrated_interdisciplinary', 0.8755093812942505),\n",
       " ('outside-the-box', 0.8748199343681335),\n",
       " ('constructivists', 0.874788224697113),\n",
       " ('nuturing', 0.8743723630905151),\n",
       " ('developmentally-based', 0.8741036653518677),\n",
       " ('discovery-based', 0.873662531375885),\n",
       " ('inquiry_arcs', 0.8714935779571533),\n",
       " ('fieldwork_and_experts', 0.8713229298591614),\n",
       " ('issues-based', 0.8712214231491089),\n",
       " ('constructivist_pedagogy', 0.8711371421813965),\n",
       " ('fostering_curiosity', 0.8707929849624634)]"
      ]
     },
     "execution_count": 22,
     "metadata": {},
     "output_type": "execute_result"
    }
   ],
   "source": [
    "# By searching through the above candidate terms/phrases, expand from the seed terms into a list of synonyms like this: \n",
    "inq20 = ['active_inquiry', 'activity-based', 'activity/project', 'constructivism', \n",
    "         'experience-based', 'experientially', \n",
    "         'explorative', 'inquiry/research', 'inquiry-driven', \n",
    "         'problem-centered', 'problem-solving', \n",
    "         'project-based', 'project-centered', 'project-focused', 'project-oriented']\n",
    "\n",
    "# Could add more terms, too:\n",
    "model.most_similar(inq20, topn=50)"
   ]
  },
  {
   "cell_type": "code",
   "execution_count": 19,
   "metadata": {
    "scrolled": true
   },
   "outputs": [
    {
     "data": {
      "text/plain": [
       "[('life-based', 0.9069126844406128),\n",
       " ('hands-on_and_minds-on', 0.9033913016319275),\n",
       " ('andinnovative', 0.9029760360717773),\n",
       " ('hands-on/minds-on', 0.9022852182388306),\n",
       " ('discussion-based', 0.899781346321106),\n",
       " ('student-driven_exploration', 0.8974231481552124),\n",
       " ('cognitively_demanding', 0.8939936757087708),\n",
       " ('sensory-rich', 0.8939144611358643),\n",
       " ('exploration_and_experimentation', 0.8926268815994263),\n",
       " ('goal-driven', 0.8916996717453003),\n",
       " ('language-rich', 0.8915148973464966),\n",
       " ('learn-by-doing', 0.8907164931297302),\n",
       " ('whole-brain', 0.890299916267395),\n",
       " ('student-centered_inquiry-based', 0.8873357772827148),\n",
       " ('experiential_approach', 0.8859681487083435),\n",
       " ('outside-the-box', 0.8851909637451172),\n",
       " ('technology-infused', 0.8847143650054932),\n",
       " ('multi-modality', 0.8842328190803528),\n",
       " ('inventive_thinking', 0.8838145136833191),\n",
       " ('design-based', 0.8828551769256592),\n",
       " ('skills.the', 0.8823269605636597),\n",
       " ('science-driven', 0.8811147212982178),\n",
       " ('movement-based', 0.8788178563117981),\n",
       " ('learningand', 0.8782038688659668),\n",
       " ('proven_methodology', 0.8779994249343872),\n",
       " ('experiential_project-based', 0.8778121471405029),\n",
       " ('content-specific_grade-by-grade', 0.8771874904632568),\n",
       " ('simulations_role-playing', 0.8770174384117126),\n",
       " ('rigorous_skills-based', 0.8768175840377808),\n",
       " ('seminar-based', 0.8750816583633423),\n",
       " ('integrated_interdisciplinary', 0.8746935129165649),\n",
       " ('discovery-based_learning', 0.8741582036018372),\n",
       " ('life-enhancing_skills', 0.8736122250556946),\n",
       " (\"'real-world\", 0.8733874559402466),\n",
       " ('interdisciplinary_units', 0.8730072975158691),\n",
       " ('concrete_manipulative', 0.8723492622375488),\n",
       " ('fieldwork_and_experts', 0.872256875038147),\n",
       " ('developmentally-based', 0.8719576597213745),\n",
       " ('interdisciplinary_explorations', 0.8719199895858765),\n",
       " ('literature-rich', 0.8713552951812744),\n",
       " ('hands‑on', 0.8707032799720764),\n",
       " ('cross-curricular_approach', 0.8704647421836853),\n",
       " ('socratic_dialogue', 0.8703606128692627),\n",
       " ('technology-rich_environment', 0.8697389364242554),\n",
       " ('common-core_aligned', 0.8694744110107422),\n",
       " ('inquiry_arcs', 0.8691107630729675),\n",
       " ('laboratory-based', 0.8689903616905212),\n",
       " ('iqwst', 0.868649959564209),\n",
       " ('technology-enriched', 0.8680252432823181),\n",
       " ('low-stress', 0.8677506446838379)]"
      ]
     },
     "execution_count": 19,
     "metadata": {},
     "output_type": "execute_result"
    }
   ],
   "source": [
    "# Expand further into a conceptually tight list of terms like this: \n",
    "inq50 = ['inquiry-based', 'problem-based', 'discovery-based', 'experiential', 'constructivist', \n",
    "         'hands-on', 'problem-solving', 'critical_thinking', 'real-world', 'project-based', 'real-life', \n",
    "         'interdisciplinary', 'student-centered', 'critical_thinkers', 'expeditions', \n",
    "         'child-centered', 'experimentation', 'student-based', 'immersive', 'activity-based', 'student-driven', \n",
    "         'intrinsically', 'reality-based', 'multi-disciplinary', 'learner-centered', 'interest-based', 'minds-on', \n",
    "         'metacognitive', 'integrative', 'experience-based', 'multi-dimensional', 'constructivism', 'student-directed', \n",
    "         'choice-based', 'project-oriented', 'intellectually_stimulating', 'inquiry/research', 'field-based', \n",
    "         'project-focused', 'stimulate_critical', 'student-centric', 'active_inquiry', 'inquiry-driven', \n",
    "         'child-directed', 'child-initiated', 'activity/project', 'experientially', 'socratic', \n",
    "         'problem-centered', 'project-centered']\n",
    "\n",
    "# Could add more terms, too:\n",
    "model.most_similar(inq50, topn=50)"
   ]
  },
  {
   "cell_type": "code",
   "execution_count": 15,
   "metadata": {},
   "outputs": [
    {
     "name": "stderr",
     "output_type": "stream",
     "text": [
      "/opt/conda/lib/python3.7/site-packages/gensim/models/keyedvectors.py:877: FutureWarning: arrays to stack must be passed as a \"sequence\" type such as list or tuple. Support for non-sequence iterables such as generators is deprecated as of NumPy 1.16 and will raise an error in the future.\n",
      "  vectors = vstack(self.word_vec(word, use_norm=True) for word in used_words).astype(REAL)\n"
     ]
    },
    {
     "data": {
      "text/plain": [
       "'investigate'"
      ]
     },
     "execution_count": 15,
     "metadata": {},
     "output_type": "execute_result"
    }
   ],
   "source": [
    "# Can also search for terms that don't match:\n",
    "model.doesnt_match(inq50)"
   ]
  },
  {
   "cell_type": "code",
   "execution_count": 27,
   "metadata": {},
   "outputs": [
    {
     "data": {
      "text/plain": [
       "['abilities',\n",
       " 'abilities_will_be_maximized',\n",
       " 'ability-grouped',\n",
       " 'acquire_requisite',\n",
       " 'active_inquiry',\n",
       " 'activities',\n",
       " 'activities/lessons',\n",
       " 'activity/project',\n",
       " 'adept_at_facilitating',\n",
       " 'adherents',\n",
       " 'adjusted_and_thrived',\n",
       " 'admittedly_fallible',\n",
       " 'agile',\n",
       " 'aligned_to_the_ngss',\n",
       " 'allegiances',\n",
       " 'altered/added',\n",
       " 'amazed_by_the_generosity',\n",
       " 'anecdotes',\n",
       " 'appealing_and_relevant',\n",
       " 'approaches_such_as_sheltered',\n",
       " 'appropriately_allocated',\n",
       " 'architecture',\n",
       " 'arguments_and_informative/explanatory',\n",
       " 'arithmetic_reasoning',\n",
       " 'art-filled',\n",
       " 'artistic',\n",
       " 'assemble_the_pieces',\n",
       " 'atomic_nucleus',\n",
       " 'awaken_the_imagination',\n",
       " 'bearing_on_the_viability',\n",
       " 'benefits_of_co-op',\n",
       " 'bi-literacy',\n",
       " 'brain-compatible',\n",
       " 'brain-friendly',\n",
       " 'break/gross_motor',\n",
       " 'brighter_tomorrow',\n",
       " 'brilliantly_infused',\n",
       " 'brochure_to_solidify',\n",
       " 'c++_programming',\n",
       " 'capitalism_and_socialism',\n",
       " 'career-focused_and_technical',\n",
       " 'carefully_weigh',\n",
       " 'case-based',\n",
       " 'championing_issues',\n",
       " 'channels_their_energies',\n",
       " 'character-based_strengths',\n",
       " 'checking-for-understanding',\n",
       " 'child-centered',\n",
       " 'child-centered_individualized',\n",
       " 'child-sized_furniture',\n",
       " 'circles_graphed',\n",
       " 'circulatory_and_nervous',\n",
       " 'city-planning',\n",
       " 'civically_active',\n",
       " 'classical/stem_based',\n",
       " 'climate_improvement/improvement',\n",
       " 'coaches/leaders',\n",
       " 'cogent',\n",
       " 'cognitively_demanding',\n",
       " 'coherent_sequenced',\n",
       " 'cohesiveness',\n",
       " 'collaborate_on_a_large-scale',\n",
       " 'collaborative_student-community',\n",
       " 'college-level_options',\n",
       " 'colorism',\n",
       " 'comma_rules',\n",
       " 'commensurate_with_their_abilities',\n",
       " 'committing_offenses',\n",
       " 'commonly_confused',\n",
       " 'communication/collaboration',\n",
       " 'community-wide',\n",
       " 'comparing_the_inputs',\n",
       " 'compelling_paragraphs',\n",
       " 'competency_and_mastery',\n",
       " 'complex_adult-world',\n",
       " 'complexity',\n",
       " 'comprehensibility',\n",
       " 'comprehensive_16-hour',\n",
       " 'conceiving',\n",
       " 'concept/skill',\n",
       " 'concurrently_with_the_choreography',\n",
       " 'considering_waldorf',\n",
       " 'constructivism',\n",
       " 'constructivist',\n",
       " 'constructivist-based',\n",
       " 'consultation/collaboration',\n",
       " 'content-rich_nonfiction',\n",
       " 'content-specific',\n",
       " 'context',\n",
       " 'continous',\n",
       " 'continuity_and_commitment',\n",
       " 'core-content_courses',\n",
       " 'craftsmanship',\n",
       " 'create_spectacles',\n",
       " 'creative',\n",
       " 'creativity',\n",
       " 'critical-thinkers',\n",
       " 'critical-thinking',\n",
       " 'cross-content',\n",
       " 'crystallization',\n",
       " 'cultural_diversities',\n",
       " 'cultural_heritages',\n",
       " 'curiosity',\n",
       " 'curriculum/standards',\n",
       " 'data-rich',\n",
       " 'decision-making',\n",
       " 'decisionmaking_skills',\n",
       " 'deepen',\n",
       " 'deeper',\n",
       " 'definiteness',\n",
       " 'demanding_college-preparatory',\n",
       " 'derivations',\n",
       " 'describe_distributions',\n",
       " 'design2fab_lab',\n",
       " 'develop/implement',\n",
       " 'developing',\n",
       " 'dialoguing',\n",
       " 'diaries_and_journals',\n",
       " 'different/',\n",
       " 'differentiated/personalized',\n",
       " 'differing_structure',\n",
       " 'discerning_listeners',\n",
       " 'discover',\n",
       " 'discovery-based',\n",
       " 'disempower',\n",
       " 'disparate_personalities',\n",
       " 'dissection_techniques',\n",
       " 'dissipate',\n",
       " 'distraction-free',\n",
       " 'drafting_and_revising',\n",
       " 'drove_the_expedition',\n",
       " 'dynamic_collaboration',\n",
       " 'dynamically_and_immediately',\n",
       " 'edifying',\n",
       " 'editing_and_proofing',\n",
       " 'effectiveness_of_metacognitive',\n",
       " 'effects_of_repetition',\n",
       " 'efficacy_by_encouraging',\n",
       " 'eliminating_unnecessary',\n",
       " 'elitism',\n",
       " 'ellipsis_points',\n",
       " 'embraced_and_supported',\n",
       " 'emojis',\n",
       " 'encourage',\n",
       " 'encouraging',\n",
       " 'enduring_conceptual',\n",
       " 'enduring_relationships',\n",
       " 'engaged_citizen',\n",
       " 'engaging',\n",
       " 'enlargement',\n",
       " 'ennoble',\n",
       " 'ennobling_effect',\n",
       " 'environment',\n",
       " 'equipping_educators',\n",
       " 'esl/family',\n",
       " 'evaluate_the_motives',\n",
       " 'evidence_in_a_nuanced',\n",
       " 'examples_evoke',\n",
       " 'expeditions',\n",
       " 'experience-based',\n",
       " 'experiental_learning',\n",
       " 'experiential',\n",
       " 'experiential_approach',\n",
       " 'experientially',\n",
       " 'experimental_labs',\n",
       " 'experimentation',\n",
       " 'exploration',\n",
       " 'exploration_and_experimentation',\n",
       " 'explorations',\n",
       " 'explorative',\n",
       " 'expose_them_to_a_wider',\n",
       " 'exposed_to_a_coherent',\n",
       " 'facilitation_techniques',\n",
       " 'faint_of_heart',\n",
       " 'feedback',\n",
       " 'field-based',\n",
       " 'fieldwork',\n",
       " 'filming',\n",
       " 'fiscal_mismanagement',\n",
       " 'force_to_be_reckoned',\n",
       " 'fostered',\n",
       " 'fostering',\n",
       " 'fuels_my_desire',\n",
       " 'fully-vetted',\n",
       " 'functional_weakness',\n",
       " 'gender-nonconforming',\n",
       " 'generalizations_and_predictions',\n",
       " 'gets_maximized',\n",
       " 'goal-driven',\n",
       " 'gods_of_asgard',\n",
       " 'grade-by-grade_year-by-year',\n",
       " 'gradual_manner',\n",
       " 'grander_scale',\n",
       " 'grapple_with_difficult',\n",
       " 'greek_philosophers',\n",
       " 'grit_and_zest',\n",
       " 'growth',\n",
       " 'hand-on',\n",
       " 'hands-on',\n",
       " 'hands-on/minds-on',\n",
       " 'hands-on_and_minds-on',\n",
       " 'hands-on_learning',\n",
       " 'hands-on_minds-on',\n",
       " 'hands‑on',\n",
       " 'harmonize',\n",
       " 'headmaster_letters',\n",
       " 'helps',\n",
       " 'higher-level_cognitive',\n",
       " 'highly_scripted',\n",
       " 'home-away-from-home',\n",
       " 'homeschool-friendly',\n",
       " 'hope',\n",
       " 'humanism',\n",
       " 'humanities_major',\n",
       " 'identification_of_learning/behavioral',\n",
       " 'immersive',\n",
       " 'implant_into_the_memories',\n",
       " 'in-demand_transportable',\n",
       " 'incorporating_the_principles',\n",
       " 'increased_connectedness',\n",
       " 'independence',\n",
       " 'indispensable',\n",
       " 'individual/personalized_manner',\n",
       " 'individualize_and_differentiate',\n",
       " 'inflected',\n",
       " 'innovativeness',\n",
       " 'inquiry-based',\n",
       " 'inquiry-driven',\n",
       " 'inquiry/research',\n",
       " 'inspire',\n",
       " 'inspiring',\n",
       " 'instruction_cgi',\n",
       " 'integrated',\n",
       " 'intelligent_and_intentional',\n",
       " 'inter-dependence',\n",
       " 'interdependence',\n",
       " 'interdisciplinary',\n",
       " 'interests',\n",
       " 'interior_monologue',\n",
       " 'internship/interest',\n",
       " 'interpersonal',\n",
       " 'investigate',\n",
       " 'issues-based',\n",
       " 'item/category_to_better',\n",
       " 'jasmine_flower',\n",
       " 'journaling',\n",
       " 'joy-filled',\n",
       " 'kinaesthetic',\n",
       " 'laboratory-based',\n",
       " 'laborious_process',\n",
       " 'language-rich',\n",
       " 'leader_and_a_follower',\n",
       " 'learn',\n",
       " 'learn-by-doing',\n",
       " 'learner-centered',\n",
       " 'learning',\n",
       " 'learning-to-learn',\n",
       " 'lens',\n",
       " 'life-based',\n",
       " 'life-long',\n",
       " 'life-skill',\n",
       " 'lifelong',\n",
       " 'lightness',\n",
       " 'literature-rich',\n",
       " 'literature_has_tended',\n",
       " 'loving_and_attentive',\n",
       " 'low-ability',\n",
       " 'lowest_in_achievement',\n",
       " 'loyalty',\n",
       " 'math/engineering',\n",
       " 'maturationally_ready',\n",
       " 'meaningful',\n",
       " 'mentorship',\n",
       " 'mentorships',\n",
       " 'metacognitive',\n",
       " 'micro-economic_ventures',\n",
       " 'minds',\n",
       " 'minds-on',\n",
       " 'mirror_real-life',\n",
       " 'mixed-ability',\n",
       " 'modality',\n",
       " 'motivate_their_attempts',\n",
       " 'mud_hut',\n",
       " 'multi-dimensional',\n",
       " 'multi-disciplinary',\n",
       " 'multi-faceted',\n",
       " 'multiple-paragraph',\n",
       " 'must-reads',\n",
       " 'mutual',\n",
       " 'myon_reader',\n",
       " 'mythological_creature',\n",
       " 'natural',\n",
       " 'nature',\n",
       " 'nature-based_perspective',\n",
       " 'navigable',\n",
       " 'near-daily_basis',\n",
       " 'need-to-know_facts',\n",
       " 'needing_improvement',\n",
       " 'neuro-anatomy',\n",
       " 'next_generation',\n",
       " 'non-arts',\n",
       " 'non-coercive',\n",
       " 'non-dominant',\n",
       " 'non-instrumental',\n",
       " 'non-montessori',\n",
       " 'noninfectious',\n",
       " 'nonpolitical',\n",
       " 'novel-based',\n",
       " 'nurtures_mutual',\n",
       " 'nurturing',\n",
       " 'observation',\n",
       " 'obsolescence',\n",
       " 'one-segment',\n",
       " 'one2one_digital',\n",
       " 'open-mindedness',\n",
       " 'orientating',\n",
       " 'originated_in_cuba',\n",
       " 'outcome-focused',\n",
       " 'pace_most_suited',\n",
       " 'parabolas_graphed',\n",
       " 'parent/student/staff_compact',\n",
       " 'participating_in_acting/music/arts',\n",
       " 'particularly_vulnerable',\n",
       " 'pedagogical_delivery',\n",
       " 'pep-rally',\n",
       " 'personalized',\n",
       " 'perspective',\n",
       " 'philosophical',\n",
       " 'philosophies',\n",
       " 'photographing',\n",
       " 'pinata',\n",
       " 'point-of-need',\n",
       " 'polite_manners',\n",
       " 'post-production_editing',\n",
       " 'post-school_life',\n",
       " 'power_of_student-faculty',\n",
       " 'powers_of_abstraction',\n",
       " 'practicality',\n",
       " 'prbl',\n",
       " 'pre-teach',\n",
       " 'precise_claim',\n",
       " 'predicated_on_the_realization',\n",
       " 'presumption_and_belief',\n",
       " 'problem-based',\n",
       " 'problem‑solving',\n",
       " 'process-based_writing',\n",
       " 'processes_recursively',\n",
       " 'product/outcome',\n",
       " 'prohibitively_expensive',\n",
       " 'project-based',\n",
       " 'project-centered',\n",
       " 'project-focused',\n",
       " 'providing',\n",
       " 'proxy_servers',\n",
       " 'purveyors',\n",
       " 'qualify_or_justify',\n",
       " 'quality-learning',\n",
       " 'quantitatively_as_well',\n",
       " 'quiet',\n",
       " 'ramp-up_to_readiness',\n",
       " 're-forming',\n",
       " 'real-life',\n",
       " 'real-world',\n",
       " 'reason_mathematically',\n",
       " 'rectangular_array',\n",
       " 'reduces_distractions',\n",
       " 'refine_gross',\n",
       " 'reinforce_previously',\n",
       " 'reinterpret',\n",
       " 'reinvention',\n",
       " 'relatable_characters',\n",
       " 'relational_capacity',\n",
       " 'relationship-oriented_classroom',\n",
       " 'relationships_between_pollinators',\n",
       " 'relevant_to_the_viability',\n",
       " 'reliability',\n",
       " 'repeated_occurrence',\n",
       " 'research-supported',\n",
       " 'respective_histories',\n",
       " 'review_of_progress-monitoring',\n",
       " 'reﬂective',\n",
       " 'richness_and_diversity',\n",
       " 'richness_and_strength',\n",
       " 'robot_to_maneuver',\n",
       " 'rule-making',\n",
       " 'scaled_scores',\n",
       " 'school-life',\n",
       " 'sculptural_forms',\n",
       " 'sculptural_techniques',\n",
       " 'self-appreciation',\n",
       " 'self-awareness',\n",
       " 'self-efficacy',\n",
       " 'self-expression',\n",
       " 'self-motivated',\n",
       " 'sense_of_reverence',\n",
       " 'sensory-motor',\n",
       " 'sensory-rich',\n",
       " 'sentence_workshopping',\n",
       " 'settled_tribe',\n",
       " 'shapes_and_their_attributes',\n",
       " 'shared',\n",
       " 'sherry_alam',\n",
       " 'shows_that_metacognitive',\n",
       " 'simulations_role-playing',\n",
       " 'skills/family',\n",
       " 'small-group',\n",
       " 'small-group_discussion',\n",
       " 'social/soft',\n",
       " 'socialresponsibility',\n",
       " 'socratic',\n",
       " 'socratic_dialogue',\n",
       " 'socratic_method',\n",
       " 'standards-focused',\n",
       " 'staunch_supporter',\n",
       " 'stepstone_360°',\n",
       " 'stewards',\n",
       " 'stopped_and_looked',\n",
       " \"story's_lesson\",\n",
       " 'stress-management',\n",
       " 'strict/warm',\n",
       " 'structurally_similar',\n",
       " 'structured_and_predictable',\n",
       " 'struggles_and_questioning',\n",
       " 'stuck_with_them_affecting',\n",
       " 'student-centered',\n",
       " 'student-centered_inquiry-based',\n",
       " 'student-directed',\n",
       " 'student-driven',\n",
       " 'student-driven_exploration',\n",
       " 'study/teaching',\n",
       " 'styles_and_modalities',\n",
       " 'subject-area_integration',\n",
       " 'succesful',\n",
       " 'suit_their_needs',\n",
       " 'superbowl_party',\n",
       " 'supplemental_curricula',\n",
       " 'sustainability',\n",
       " 'sustaining_of_a_genuine',\n",
       " 'symbolic_representations',\n",
       " 'synthetic_phonics',\n",
       " 'systematic_and_sequential',\n",
       " 'tacitly',\n",
       " 'target/objective',\n",
       " 'teacher-to-teacher',\n",
       " 'team-based_organizational',\n",
       " 'techniques_namely',\n",
       " 'technological_modalities',\n",
       " 'technologies_and_our_science-based',\n",
       " 'technology-assisted',\n",
       " 'technology-infused',\n",
       " 'technology–',\n",
       " 'tedxyouth',\n",
       " 'temper_tantrum',\n",
       " 'text-analysis',\n",
       " 'text_capitalcitypcs',\n",
       " 'textbooks_affording',\n",
       " 'thematic',\n",
       " 'thematically',\n",
       " 'theme-based',\n",
       " 'themes',\n",
       " 'theses',\n",
       " 'thorough_and_accurate',\n",
       " 'three-part_pattern',\n",
       " 'thrives',\n",
       " 'tight-knit',\n",
       " 'time-management',\n",
       " 'timeless_but_indispensable',\n",
       " 'touchpoints',\n",
       " 'trained_appraisers',\n",
       " 'transgender',\n",
       " 'tricycle',\n",
       " 'trustee_elections',\n",
       " 'tunnels_and_snowshed',\n",
       " 'twinery',\n",
       " 'unbidden_encounter',\n",
       " 'understand',\n",
       " 'understands',\n",
       " 'unfamiliar_contexts',\n",
       " 'unschooling',\n",
       " 'uphold_and_enforce',\n",
       " 'valued',\n",
       " 'values-centered',\n",
       " 'virtues',\n",
       " 'virtuous',\n",
       " 'visible_men',\n",
       " 'vitals',\n",
       " 'voluntarism',\n",
       " 'wampanoag',\n",
       " 'warm/strict',\n",
       " 'ways_of_knowing/learning',\n",
       " 'well-articulated_standards-based',\n",
       " 'well-developed',\n",
       " 'whole-group_explicit',\n",
       " 'willow_seedling',\n",
       " 'wishful',\n",
       " 'world-view',\n",
       " 'would_be_off-putting',\n",
       " 'writing-centered',\n",
       " 'writing—decoding',\n",
       " 'yet-to-be-defined_future']"
      ]
     },
     "execution_count": 27,
     "metadata": {},
     "output_type": "execute_result"
    }
   ],
   "source": [
    "# Searching for additional terms similar to this list, you can expand even further!\n",
    "inquiry_fin = [elem.strip('\\n') for elem in load_list('data/inquiry500.txt')] # Load completed dict of 500 terms\n",
    "inquiry_fin = list(set(inquiry_fin)) # Remove duplicates\n",
    "\n",
    "sorted(inquiry_fin) # Show long dictionary resulting from exploring (and hand-cleaning)"
   ]
  },
  {
   "cell_type": "code",
   "execution_count": 28,
   "metadata": {},
   "outputs": [
    {
     "name": "stdout",
     "output_type": "stream",
     "text": [
      "Removed stuck_with_them_affecting from core dictionary.\n",
      "Removed styles_and_modalities from core dictionary.\n"
     ]
    }
   ],
   "source": [
    "# Remove any terms from full dict NOT in current model:\n",
    "for word in inquiry_fin:\n",
    "    if word not in list(model.vocab):\n",
    "        inquiry_fin.remove(word)\n",
    "        print(\"Removed \" + str(word) + \" from core dictionary.\")\n",
    "# Repeat for quality:\n",
    "for word in inquiry_fin:\n",
    "    if word not in list(model.vocab):\n",
    "        inquiry_fin.remove(word)\n",
    "        print(\"Removed \" + str(word) + \" from core dictionary.\")"
   ]
  },
  {
   "cell_type": "code",
   "execution_count": 29,
   "metadata": {},
   "outputs": [
    {
     "name": "stdout",
     "output_type": "stream",
     "text": [
      "SEED DICTIONARY: 0.7010571432113648\n",
      "NARROW DICTIONARY: 0.7201398701137967\n",
      "HAND-CHECKED FULL DICTIONARY: 0.6173502521514893\n",
      "DATA-DRIVEN FULL DICTIONARY: 0.7891655696868897\n",
      "LONG DICTIONARY: 0.598329613622959\n"
     ]
    }
   ],
   "source": [
    "# Compare how well these candidate dictionaries hold together:\n",
    "print(\"SEED DICTIONARY:\", dict_cohere(inqseed, model))\n",
    "print(\"NARROW DICTIONARY:\", dict_cohere(inq20, model))\n",
    "print(\"HAND-CHECKED FULL DICTIONARY:\", dict_cohere(inq50, model))\n",
    "print(\"DATA-DRIVEN FULL DICTIONARY:\", dict_cohere(inq50new, model))\n",
    "print(\"LONG DICTIONARY:\", dict_cohere(inquiry_fin, model))"
   ]
  },
  {
   "cell_type": "markdown",
   "metadata": {},
   "source": [
    "## Visualize vector relationships"
   ]
  },
  {
   "cell_type": "markdown",
   "metadata": {},
   "source": [
    "### Most similar words"
   ]
  },
  {
   "cell_type": "code",
   "execution_count": 38,
   "metadata": {
    "scrolled": true
   },
   "outputs": [
    {
     "data": {
      "image/png": "[encoded data removed]",
      "text/plain": [
       "<Figure size 1440x1440 with 1 Axes>"
      ]
     },
     "metadata": {},
     "output_type": "display_data"
    }
   ],
   "source": [
    "# Display 30 closest words to test word\n",
    "display_closestwords(model, test_word, 30)"
   ]
  },
  {
   "cell_type": "markdown",
   "metadata": {},
   "source": [
    "### Manually defined words"
   ]
  },
  {
   "cell_type": "code",
   "execution_count": 20,
   "metadata": {
    "scrolled": true
   },
   "outputs": [
    {
     "data": {
      "image/png": "[encoded data removed]",
      "text/plain": [
       "<Figure size 1440x1440 with 1 Axes>"
      ]
     },
     "metadata": {},
     "output_type": "display_data"
    }
   ],
   "source": [
    "# TO DO: Adapt function above to be able to perform this visualization\n",
    "# Set terms for visualization:\n",
    "core_words = inqseed\n",
    "close_words = inq50 \n",
    "\n",
    "# Define model parameters\n",
    "dimensions = 300\n",
    "arr = np.empty((0,dimensions), dtype='f')\n",
    "word_labels = []\n",
    "\n",
    "# add the vector for each of the closest words to the array\n",
    "for wrd_label in close_words:\n",
    "    wrd_vector = model[wrd_label]\n",
    "    word_labels.append(wrd_label)\n",
    "    arr = np.append(arr, np.array([wrd_vector]), axis=0)\n",
    "        \n",
    "# find tsne coords for 2 dimensions, using cosine distances as metric\n",
    "tsne = TSNE(n_components=2, random_state=0, metric=distance.cosine)\n",
    "np.set_printoptions(suppress=True)\n",
    "Y = tsne.fit_transform(arr)\n",
    "\n",
    "x_coords = Y[:, 0]\n",
    "y_coords = Y[:, 1]\n",
    "\n",
    "# display scatter plot\n",
    "fig, ax = plt.subplots(figsize=(20,20))\n",
    "ax.scatter(x_coords, y_coords, alpha=1, color='b')\n",
    "\n",
    "sns.set(style='white')\n",
    "\n",
    "for label, x, y in zip(word_labels, x_coords, y_coords):\n",
    "    if label in core_words:\n",
    "        ax.annotate(label, xy=(x, y), xytext=(0, 0), textcoords='offset points', fontweight='bold').set_fontsize(20)\n",
    "    else:\n",
    "        ax.annotate(label, xy=(x, y), xytext=(0, 0), textcoords='offset points').set_fontsize(20)\n",
    "    \n",
    "ax.set_xlim(x_coords.min()-5, x_coords.max()+50)\n",
    "ax.set_ylim(y_coords.min()-5, y_coords.max()+5)\n",
    "ax.set_xlabel('t-SNE dimension 1')\n",
    "ax.set_ylabel('t-SNE dimension 2')\n",
    "ax.xaxis.label.set_fontsize(24)\n",
    "ax.yaxis.label.set_fontsize(24)\n",
    "for item in (ax.get_xticklabels() + ax.get_yticklabels()):\n",
    "    item.set_fontsize(16)\n",
    "plt.show()"
   ]
  },
  {
   "cell_type": "code",
   "execution_count": 21,
   "metadata": {},
   "outputs": [],
   "source": [
    "fig.savefig(\"data/IBL_50_102419.png\", facecolor=\"white\", transparent=True)"
   ]
  },
  {
   "cell_type": "markdown",
   "metadata": {},
   "source": [
    "## Check word frequencies and ranks"
   ]
  },
  {
   "cell_type": "markdown",
   "metadata": {},
   "source": [
    "### Count frequency of candidate words\n",
    "\n",
    "Required arguments for `count_master()` function:\n",
    "- df: DataFrame with text data, each of which is a list of full-text pages (not necessarily preprocessed)\n",
    "- dict_path: file path to folder containing dictionaries\n",
    "- dict_names: names of dictionaries on file (list or list of lists)\n",
    "- file_ext: file extension for dictionary files (probably .txt)   \n",
    "- local_dicts: list of local dictionaries formatted as last of lists of terms--or if singular, just a list of terms\n",
    "- local_names: names of local dictionaries (list or list of lists)"
   ]
  },
  {
   "cell_type": "code",
   "execution_count": 42,
   "metadata": {},
   "outputs": [
    {
     "name": "stderr",
     "output_type": "stream",
     "text": [
      "  2%|▏         | 9/367 [00:00<00:05, 71.26it/s]"
     ]
    },
    {
     "name": "stdout",
     "output_type": "stream",
     "text": [
      "Counting dictionaries per term for corpus...\n"
     ]
    },
    {
     "name": "stderr",
     "output_type": "stream",
     "text": [
      "100%|██████████| 367/367 [00:15<00:00, 24.11it/s]\n",
      "100%|██████████| 367/367 [00:00<00:00, 167298.07it/s]"
     ]
    },
    {
     "name": "stdout",
     "output_type": "stream",
     "text": [
      "Multiprocessing complete. Collecting counts per term per dictionary...\n",
      "Finished. Returning results.\n",
      "TERM COUNTS FOR CANDIDATES DICTIONARY:\n",
      "\n",
      "                               TERM  FREQUENCY\n",
      "29                       low­income       4608\n",
      "14                        high-risk        341\n",
      "24            intellectually_gifted        202\n",
      "15                       high-needs        107\n",
      "25                    low_achieving        105\n",
      "16                    low-achieving        105\n",
      "18                  under-resourced         71\n",
      "9                 under-represented         62\n",
      "7                    underachieving         60\n",
      "21                adjudicated_youth         40\n",
      "8                  justice-involved         15\n",
      "22               pregnant/parenting         13\n",
      "4             disenfranchised_youth          6\n",
      "27                        youth_yaş          4\n",
      "20        evidence-based_approaches          0\n",
      "28               aimed_at_achieving          0\n",
      "26               considered_at-risk          0\n",
      "2        academically_low-achieving          0\n",
      "23              at-risk_adolescents          0\n",
      "17                  better_my_life.          0\n",
      "19                living_in_poverty          0\n",
      "5         at-risk_and_disadvantaged          0\n",
      "1   construction_management/general          0\n",
      "3       percentages_of_economically          0\n",
      "13              out-of-school_youth          0\n",
      "12      example_the_disenfranchised          0\n",
      "11      african-american_and_latino          0\n",
      "10          low-income_and_minority          0\n",
      "6             high-ability_students          0\n",
      "0   failure_and_academically-gifted          0\n"
     ]
    },
    {
     "name": "stderr",
     "output_type": "stream",
     "text": [
      "\n"
     ]
    }
   ],
   "source": [
    "countsdfs = count_master(df, dict_path = dict_path, dict_names = [], file_ext = '.txt', \n",
    "                         local_dicts = [candidates_list], local_names = [\"candidates\"])"
   ]
  },
  {
   "cell_type": "markdown",
   "metadata": {},
   "source": [
    "### Relative ranks of dictionary terms"
   ]
  },
  {
   "cell_type": "markdown",
   "metadata": {},
   "source": [
    "Word2vec also has built-in method to compare relative ranks of terms, which go from most frequent (highest number) to least frequent. <br/> **Note** that they are NOT real counts/frequencies (see above for that)."
   ]
  },
  {
   "cell_type": "code",
   "execution_count": null,
   "metadata": {},
   "outputs": [],
   "source": [
    "# Create Counter object: a set containing doubles, where each double is ('term': rank)\n",
    "counts = Counter({word: vocab.count for (word, vocab) in model.wv.vocab.items()})\n",
    "counts"
   ]
  },
  {
   "cell_type": "code",
   "execution_count": null,
   "metadata": {},
   "outputs": [],
   "source": [
    "# TO DO: 1. Sort entries by rank before displaying; 2. show histogram of term counts for highest 20 and lowest 20 words for each dict\n",
    "\n",
    "print(\"RANK FOR SEED DICTIONARY:\")\n",
    "for term in sorted(inqseed):\n",
    "    print(str(term) + \": \" + str(counts[term]))\n",
    "print()\n",
    "print(\"RANK FOR CORE DICTIONARY:\")\n",
    "for term in inq30:\n",
    "    print(str(term) + \": \" + str(counts[term]))\n",
    "print()\n",
    "print(\"RANK FOR FULL DICTIONARY:\")\n",
    "for term in inquiry_fin:\n",
    "    print(str(term) + \": \" + str(counts[term]))"
   ]
  },
  {
   "cell_type": "code",
   "execution_count": null,
   "metadata": {
    "scrolled": true
   },
   "outputs": [],
   "source": [
    "# 50 most frequent words (according to word2vec tracker):\n",
    "model.wv.index2entity[:50]"
   ]
  },
  {
   "cell_type": "markdown",
   "metadata": {},
   "source": [
    "## Validate dictionaries: Check coherence of terms across sizes"
   ]
  },
  {
   "cell_type": "code",
   "execution_count": 25,
   "metadata": {},
   "outputs": [
    {
     "ename": "NameError",
     "evalue": "name 'inq50new' is not defined",
     "output_type": "error",
     "traceback": [
      "\u001b[0;31m---------------------------------------------------------------------------\u001b[0m",
      "\u001b[0;31mNameError\u001b[0m                                 Traceback (most recent call last)",
      "\u001b[0;32m<ipython-input-25-887cf4da0c77>\u001b[0m in \u001b[0;36m<module>\u001b[0;34m\u001b[0m\n\u001b[0;32m----> 1\u001b[0;31m \u001b[0;32mfor\u001b[0m \u001b[0mdictionary\u001b[0m \u001b[0;32min\u001b[0m \u001b[0;34m[\u001b[0m\u001b[0minqseed\u001b[0m\u001b[0;34m,\u001b[0m \u001b[0minq20\u001b[0m\u001b[0;34m,\u001b[0m \u001b[0minq50new\u001b[0m\u001b[0;34m,\u001b[0m \u001b[0minquiry_fin\u001b[0m\u001b[0;34m]\u001b[0m\u001b[0;34m:\u001b[0m\u001b[0;34m\u001b[0m\u001b[0;34m\u001b[0m\u001b[0m\n\u001b[0m\u001b[1;32m      2\u001b[0m     \u001b[0mprint\u001b[0m\u001b[0;34m(\u001b[0m\u001b[0mstr\u001b[0m\u001b[0;34m(\u001b[0m\u001b[0mdict_cohere\u001b[0m\u001b[0;34m(\u001b[0m\u001b[0mdictionary\u001b[0m\u001b[0;34m,\u001b[0m \u001b[0mmodel\u001b[0m\u001b[0;34m)\u001b[0m\u001b[0;34m)\u001b[0m\u001b[0;34m)\u001b[0m\u001b[0;34m\u001b[0m\u001b[0;34m\u001b[0m\u001b[0m\n",
      "\u001b[0;31mNameError\u001b[0m: name 'inq50new' is not defined"
     ]
    }
   ],
   "source": [
    "for dictionary in [inqseed, inq20, inq50new, inquiry_fin]:\n",
    "    print(str(dict_cohere(dictionary, model)))"
   ]
  },
  {
   "cell_type": "code",
   "execution_count": 24,
   "metadata": {},
   "outputs": [
    {
     "ename": "NameError",
     "evalue": "name 'inq30' is not defined",
     "output_type": "error",
     "traceback": [
      "\u001b[0;31m---------------------------------------------------------------------------\u001b[0m",
      "\u001b[0;31mNameError\u001b[0m                                 Traceback (most recent call last)",
      "\u001b[0;32m<ipython-input-24-34c584ef9fb7>\u001b[0m in \u001b[0;36m<module>\u001b[0;34m\u001b[0m\n\u001b[1;32m      1\u001b[0m \u001b[0;31m# Can also check for words that belong LEAST to a given dictionary:\u001b[0m\u001b[0;34m\u001b[0m\u001b[0;34m\u001b[0m\u001b[0;34m\u001b[0m\u001b[0m\n\u001b[0;32m----> 2\u001b[0;31m \u001b[0mmaindict\u001b[0m \u001b[0;34m=\u001b[0m \u001b[0minq30\u001b[0m\u001b[0;34m\u001b[0m\u001b[0;34m\u001b[0m\u001b[0m\n\u001b[0m\u001b[1;32m      3\u001b[0m \u001b[0;34m\u001b[0m\u001b[0m\n\u001b[1;32m      4\u001b[0m \u001b[0mi\u001b[0m \u001b[0;34m=\u001b[0m \u001b[0;36m0\u001b[0m \u001b[0;31m# initialize iterator\u001b[0m\u001b[0;34m\u001b[0m\u001b[0;34m\u001b[0m\u001b[0m\n\u001b[1;32m      5\u001b[0m \u001b[0mlength\u001b[0m \u001b[0;34m=\u001b[0m \u001b[0mlen\u001b[0m\u001b[0;34m(\u001b[0m\u001b[0mmaindict\u001b[0m\u001b[0;34m)\u001b[0m \u001b[0;31m# set length for the for loop\u001b[0m\u001b[0;34m\u001b[0m\u001b[0;34m\u001b[0m\u001b[0m\n",
      "\u001b[0;31mNameError\u001b[0m: name 'inq30' is not defined"
     ]
    }
   ],
   "source": [
    "# Can also check for words that belong LEAST to a given dictionary:\n",
    "maindict = inq30\n",
    "\n",
    "i = 0 # initialize iterator\n",
    "length = len(maindict) # set length for the for loop\n",
    "inqtemp = []; inqtemp = maindict # initialize temp list of dict words\n",
    "similar_words = [] # initialize list of dict words sorted by similarity (least similar words most recently added -> at bottom)\n",
    "\n",
    "while i < length:\n",
    "    least_similar_word = model.doesnt_match(inqtemp)\n",
    "    similar_words.append(least_similar_word)\n",
    "    inqtemp.remove(least_similar_word)\n",
    "    i += 1 # add to iterator\n",
    "\n",
    "print(\"List of words from least to most similar:\")\n",
    "for term in similar_words:\n",
    "    print(term)\n",
    "    \n",
    "# Need to re-define dictionary again at this point:\n",
    "inq30 = ['discovery-based', 'student-driven_exploration', 'exploration_and_experimentation', 'laboratory-based', \n",
    "         'problem-based', 'prbl', 'learn-by-doing', \n",
    "         'project-based', 'project-centered', \n",
    "         'experiential', 'experiential_approach', 'experientially',\n",
    "         'inquiry-based', 'inquiry-driven', 'student-centered_inquiry-based', 'active_inquiry', \n",
    "         'constructivist', 'constructivism', \n",
    "         'hands-on', 'hand-on', 'hands-on_learning', 'hands-on_and_minds-on', 'hands-on_minds-on', 'hands-on/minds-on', \n",
    "         'socratic', 'socratic_method', 'socratic_dialogue',\n",
    "         'child-centered', 'learner-centered', 'student-centered']"
   ]
  },
  {
   "cell_type": "markdown",
   "metadata": {},
   "source": [
    "### Check integrity of IBL dictionaries of varying lengths"
   ]
  },
  {
   "cell_type": "code",
   "execution_count": 130,
   "metadata": {},
   "outputs": [
    {
     "name": "stdout",
     "output_type": "stream",
     "text": [
      "Removed 2 out-of-vocabulary terms from full dictionary.\n"
     ]
    }
   ],
   "source": [
    "# Remove any terms from core dict NOT in current model (these will have to be replaced):\n",
    "for word in inq30:\n",
    "    if word not in list(model.vocab):\n",
    "        inq30.remove(word)\n",
    "        print(\"NOT FOUND IN CORE DICT, REMOVING:\\t\" + word)\n",
    "\n",
    "count = 0\n",
    "for word in inquiry_fin:\n",
    "    if word not in list(model.vocab):\n",
    "        inquiry_fin.remove(word)\n",
    "        count += 1\n",
    "        #print(\"NOT FOUND in FULL DICT, REMOVING:\\t\" + word)\n",
    "\n",
    "# Loop twice to catch any remaining OOV terms:\n",
    "for word in inquiry_fin:\n",
    "    if word not in list(model.vocab):\n",
    "        inquiry_fin.remove(word)\n",
    "        count += 1\n",
    "        \n",
    "print(\"Removed \" + str(count) + \" out-of-vocabulary terms from full dictionary.\")"
   ]
  },
  {
   "cell_type": "code",
   "execution_count": 131,
   "metadata": {},
   "outputs": [
    {
     "name": "stdout",
     "output_type": "stream",
     "text": [
      "Length of original dict:  30\n",
      "Coherence of original dict:  0.694298374917772\n",
      "Length of extended dict:  498\n",
      "Coherence of extended dict:  0.5983296162685932\n"
     ]
    }
   ],
   "source": [
    "print(\"Length of original dict: \", len(inq30))\n",
    "print(\"Coherence of original dict: \", str(dict_cohere(inq30, model)))\n",
    "\n",
    "print(\"Length of extended dict: \", len(inquiry_fin))\n",
    "print(\"Coherence of extended dict: \", str(dict_cohere(inquiry_fin, model)))"
   ]
  },
  {
   "cell_type": "code",
   "execution_count": 132,
   "metadata": {},
   "outputs": [
    {
     "name": "stdout",
     "output_type": "stream",
     "text": [
      "TESTING DIFFERENT LENGTHS USING RANDOM ADDITIONS:\n",
      "\n",
      "30-term dict has this much coherence: 0.694298374917772\n",
      "\n",
      "40-term dict has this much coherence: 0.6336066746711732\n",
      "\n",
      "50-term dict has this much coherence: 0.6267515384674072\n",
      "\n",
      "75-term dict has this much coherence: 0.6087374311659071\n",
      "\n",
      "100-term dict has this much coherence: 0.6085788740158081\n",
      "\n",
      "200-term dict has this much coherence: 0.6090105971336366\n",
      "\n",
      "300-term dict has this much coherence: 0.6010488780551487\n",
      "\n",
      "400-term dict has this much coherence: 0.6033310662269595\n",
      "\n",
      "500-term dict has this much coherence: 0.5983296162685932\n"
     ]
    }
   ],
   "source": [
    "# Use random adds to create a few dicts of different lengths from max length of 500:\n",
    "\n",
    "print(\"TESTING DIFFERENT LENGTHS USING RANDOM ADDITIONS:\\n\")\n",
    "# TO DO: Write function expand_dict() above to automate this\n",
    "\n",
    "inqlist = []; inqlist = inq30 # initialize placeholder for each growing dict\n",
    "print(str(len(inqlist)) + \"-term dict has this much coherence:\", str(dict_cohere(inq30, model)))\n",
    "print()\n",
    "\n",
    "# 40 terms:\n",
    "inqlist.extend(np.random.choice([term for term in filter(lambda x: x not in inq30, inquiry_fin) if term in list(model.vocab)], size=10, replace=False))\n",
    "inq40 = []; inq40 = inqlist\n",
    "print(str(len(inqlist)) + \"-term dict has this much coherence:\", str(dict_cohere(inq40, model)))\n",
    "print()\n",
    "\n",
    "# 50 terms:\n",
    "inqlist.extend(np.random.choice([term for term in filter(lambda x: x not in inq40, inquiry_fin) if term in list(model.vocab)], size=10, replace=False))\n",
    "inq50 = inqlist\n",
    "#print(\"50 terms: \\n\", [term for term in inq50])\n",
    "print(str(len(inqlist)) + \"-term dict has this much coherence:\", str(dict_cohere(inq50, model)))\n",
    "print()\n",
    "\n",
    "# 75 terms:\n",
    "inqlist.extend(np.random.choice([term for term in filter(lambda x: x not in inq50, inquiry_fin) if term in list(model.vocab)], size=25, replace=False))\n",
    "inq75 = inqlist\n",
    "#print(\"75 terms: \\n\", [term for term in inq75])\n",
    "print(str(len(inqlist)) + \"-term dict has this much coherence:\", str(dict_cohere(inq75, model)))\n",
    "print()\n",
    "\n",
    "# 100 terms:\n",
    "inqlist.extend(np.random.choice([term for term in filter(lambda x: x not in inq75, inquiry_fin) if term in list(model.vocab)], size=25, replace=False))\n",
    "inq100 = inqlist\n",
    "#print(\"100 terms: \\n\", [term for term in inq100])\n",
    "print(str(len(inqlist)) + \"-term dict has this much coherence:\", str(dict_cohere(inq100, model)))\n",
    "print()\n",
    "\n",
    "# 200 terms:\n",
    "inqlist.extend(np.random.choice([term for term in filter(lambda x: x not in inq100, inquiry_fin) if term in list(model.vocab)], size=100, replace=False))\n",
    "inq200 = inqlist\n",
    "#print(\"200 terms: \\n\", [term for term in inq200])\n",
    "print(str(len(inqlist)) + \"-term dict has this much coherence:\", str(dict_cohere(inq200, model)))\n",
    "print()\n",
    "\n",
    "# 300 terms:\n",
    "inqlist.extend(np.random.choice([term for term in filter(lambda x: x not in inq200, inquiry_fin) if term in list(model.vocab)], size=100, replace=False))\n",
    "inq300 = inqlist\n",
    "print(str(len(inqlist)) + \"-term dict has this much coherence:\", str(dict_cohere(inq300, model)))\n",
    "print()\n",
    "\n",
    "# 400 terms:\n",
    "inqlist.extend(np.random.choice([term for term in filter(lambda x: x not in inq300, inquiry_fin) if term in list(model.vocab)], size=100, replace=False))\n",
    "inq400 = inqlist\n",
    "print(str(len(inqlist)) + \"-term dict has this much coherence:\", str(dict_cohere(inq400, model)))\n",
    "print()\n",
    "\n",
    "print(\"500-term dict has this much coherence:\", str(dict_cohere(inquiry_fin, model)))"
   ]
  },
  {
   "cell_type": "code",
   "execution_count": 133,
   "metadata": {},
   "outputs": [
    {
     "name": "stdout",
     "output_type": "stream",
     "text": [
      "\n",
      "Removed 2 out-of-vocabulary terms from full dictionary.\n",
      "TESTING DICT LENGTHS BY REMOVING LEAST SIMILAR WORD VECTORS:\n",
      "\n",
      "WARNING: Function produced a dictionary of length 498, which is not the specified maximum dict length of 500\n",
      "500-term dicts have this much coherence: 0.5983296162685932\n",
      "\n"
     ]
    },
    {
     "name": "stderr",
     "output_type": "stream",
     "text": [
      "/opt/conda/lib/python3.6/site-packages/gensim/models/keyedvectors.py:876: FutureWarning: arrays to stack must be passed as a \"sequence\" type such as list or tuple. Support for non-sequence iterables such as generators is deprecated as of NumPy 1.16 and will raise an error in the future.\n",
      "  vectors = vstack(self.word_vec(word, use_norm=True) for word in used_words).astype(REAL)\n"
     ]
    },
    {
     "name": "stdout",
     "output_type": "stream",
     "text": [
      "400-term dicts have this much coherence: 0.6033310662269596\n",
      "\n"
     ]
    },
    {
     "ename": "ValueError",
     "evalue": "cannot select a word from an empty list",
     "output_type": "error",
     "traceback": [
      "\u001b[0;31m---------------------------------------------------------------------------\u001b[0m",
      "\u001b[0;31mValueError\u001b[0m                                Traceback (most recent call last)",
      "\u001b[0;32m<ipython-input-133-55aca80ee596>\u001b[0m in \u001b[0;36m<module>\u001b[0;34m\u001b[0m\n\u001b[1;32m     33\u001b[0m     \u001b[0minqdict\u001b[0m \u001b[0;34m=\u001b[0m \u001b[0;34m[\u001b[0m\u001b[0;34m]\u001b[0m\u001b[0;34m,\u001b[0m\u001b[0;34m\u001b[0m\u001b[0;34m\u001b[0m\u001b[0m\n\u001b[1;32m     34\u001b[0m \u001b[0;34m\u001b[0m\u001b[0m\n\u001b[0;32m---> 35\u001b[0;31m     \u001b[0minqdict\u001b[0m \u001b[0;34m=\u001b[0m \u001b[0mfocus_dict\u001b[0m\u001b[0;34m(\u001b[0m\u001b[0minquiry_fin\u001b[0m\u001b[0;34m,\u001b[0m \u001b[0minq30\u001b[0m\u001b[0;34m,\u001b[0m \u001b[0mdictlen\u001b[0m\u001b[0;34m,\u001b[0m \u001b[0mmodel\u001b[0m\u001b[0;34m)\u001b[0m\u001b[0;34m\u001b[0m\u001b[0;34m\u001b[0m\u001b[0m\n\u001b[0m\u001b[1;32m     36\u001b[0m \u001b[0;34m\u001b[0m\u001b[0m\n\u001b[1;32m     37\u001b[0m     \u001b[0mprint\u001b[0m\u001b[0;34m(\u001b[0m\u001b[0mstr\u001b[0m\u001b[0;34m(\u001b[0m\u001b[0mdictlen\u001b[0m\u001b[0;34m)\u001b[0m \u001b[0;34m+\u001b[0m \u001b[0;34m\"-term dicts have this much coherence:\"\u001b[0m\u001b[0;34m,\u001b[0m \u001b[0mstr\u001b[0m\u001b[0;34m(\u001b[0m\u001b[0mdict_cohere\u001b[0m\u001b[0;34m(\u001b[0m\u001b[0minqdict\u001b[0m\u001b[0;34m,\u001b[0m \u001b[0mmodel\u001b[0m\u001b[0;34m)\u001b[0m\u001b[0;34m)\u001b[0m\u001b[0;34m)\u001b[0m\u001b[0;34m\u001b[0m\u001b[0;34m\u001b[0m\u001b[0m\n",
      "\u001b[0;32m<ipython-input-21-df565e6c2a5b>\u001b[0m in \u001b[0;36mfocus_dict\u001b[0;34m(thisdict, coredict, maxlen, wem_model)\u001b[0m\n\u001b[1;32m     16\u001b[0m \u001b[0;34m\u001b[0m\u001b[0m\n\u001b[1;32m     17\u001b[0m     \u001b[0;32mwhile\u001b[0m \u001b[0mextend_count\u001b[0m \u001b[0;34m<\u001b[0m \u001b[0mcore_count\u001b[0m\u001b[0;34m:\u001b[0m \u001b[0;31m# Remove terms until length = maxlen - number of core terms removed (to offset those core terms that will be added back in later in this script)\u001b[0m\u001b[0;34m\u001b[0m\u001b[0;34m\u001b[0m\u001b[0m\n\u001b[0;32m---> 18\u001b[0;31m         \u001b[0mbadvar\u001b[0m \u001b[0;34m=\u001b[0m \u001b[0mmodel\u001b[0m\u001b[0;34m.\u001b[0m\u001b[0mdoesnt_match\u001b[0m\u001b[0;34m(\u001b[0m\u001b[0mthisdict\u001b[0m\u001b[0;34m)\u001b[0m \u001b[0;31m# Find least matching term\u001b[0m\u001b[0;34m\u001b[0m\u001b[0;34m\u001b[0m\u001b[0m\n\u001b[0m\u001b[1;32m     19\u001b[0m         \u001b[0mthisdict\u001b[0m\u001b[0;34m.\u001b[0m\u001b[0mremove\u001b[0m\u001b[0;34m(\u001b[0m\u001b[0mbadvar\u001b[0m\u001b[0;34m)\u001b[0m \u001b[0;31m# Remove that least focal term, to focus dict\u001b[0m\u001b[0;34m\u001b[0m\u001b[0;34m\u001b[0m\u001b[0m\n\u001b[1;32m     20\u001b[0m         \u001b[0mextend_count\u001b[0m \u001b[0;34m+=\u001b[0m \u001b[0;36m1\u001b[0m \u001b[0;31m# Keep track of # non-core terms added\u001b[0m\u001b[0;34m\u001b[0m\u001b[0;34m\u001b[0m\u001b[0m\n",
      "\u001b[0;32m/opt/conda/lib/python3.6/site-packages/gensim/models/keyedvectors.py\u001b[0m in \u001b[0;36mdoesnt_match\u001b[0;34m(self, words)\u001b[0m\n\u001b[1;32m    873\u001b[0m             \u001b[0mlogger\u001b[0m\u001b[0;34m.\u001b[0m\u001b[0mwarning\u001b[0m\u001b[0;34m(\u001b[0m\u001b[0;34m\"vectors for words %s are not present in the model, ignoring these words\"\u001b[0m\u001b[0;34m,\u001b[0m \u001b[0mignored_words\u001b[0m\u001b[0;34m)\u001b[0m\u001b[0;34m\u001b[0m\u001b[0;34m\u001b[0m\u001b[0m\n\u001b[1;32m    874\u001b[0m         \u001b[0;32mif\u001b[0m \u001b[0;32mnot\u001b[0m \u001b[0mused_words\u001b[0m\u001b[0;34m:\u001b[0m\u001b[0;34m\u001b[0m\u001b[0;34m\u001b[0m\u001b[0m\n\u001b[0;32m--> 875\u001b[0;31m             \u001b[0;32mraise\u001b[0m \u001b[0mValueError\u001b[0m\u001b[0;34m(\u001b[0m\u001b[0;34m\"cannot select a word from an empty list\"\u001b[0m\u001b[0;34m)\u001b[0m\u001b[0;34m\u001b[0m\u001b[0;34m\u001b[0m\u001b[0m\n\u001b[0m\u001b[1;32m    876\u001b[0m         \u001b[0mvectors\u001b[0m \u001b[0;34m=\u001b[0m \u001b[0mvstack\u001b[0m\u001b[0;34m(\u001b[0m\u001b[0mself\u001b[0m\u001b[0;34m.\u001b[0m\u001b[0mword_vec\u001b[0m\u001b[0;34m(\u001b[0m\u001b[0mword\u001b[0m\u001b[0;34m,\u001b[0m \u001b[0muse_norm\u001b[0m\u001b[0;34m=\u001b[0m\u001b[0;32mTrue\u001b[0m\u001b[0;34m)\u001b[0m \u001b[0;32mfor\u001b[0m \u001b[0mword\u001b[0m \u001b[0;32min\u001b[0m \u001b[0mused_words\u001b[0m\u001b[0;34m)\u001b[0m\u001b[0;34m.\u001b[0m\u001b[0mastype\u001b[0m\u001b[0;34m(\u001b[0m\u001b[0mREAL\u001b[0m\u001b[0;34m)\u001b[0m\u001b[0;34m\u001b[0m\u001b[0;34m\u001b[0m\u001b[0m\n\u001b[1;32m    877\u001b[0m         \u001b[0mmean\u001b[0m \u001b[0;34m=\u001b[0m \u001b[0mmatutils\u001b[0m\u001b[0;34m.\u001b[0m\u001b[0munitvec\u001b[0m\u001b[0;34m(\u001b[0m\u001b[0mvectors\u001b[0m\u001b[0;34m.\u001b[0m\u001b[0mmean\u001b[0m\u001b[0;34m(\u001b[0m\u001b[0maxis\u001b[0m\u001b[0;34m=\u001b[0m\u001b[0;36m0\u001b[0m\u001b[0;34m)\u001b[0m\u001b[0;34m)\u001b[0m\u001b[0;34m.\u001b[0m\u001b[0mastype\u001b[0m\u001b[0;34m(\u001b[0m\u001b[0mREAL\u001b[0m\u001b[0;34m)\u001b[0m\u001b[0;34m\u001b[0m\u001b[0;34m\u001b[0m\u001b[0m\n",
      "\u001b[0;31mValueError\u001b[0m: cannot select a word from an empty list"
     ]
    }
   ],
   "source": [
    "# TO DO: Fix this\n",
    "\n",
    "# Use removal of least similar word vectors to create a few dicts of different lengths from max length of 500:\n",
    "lens_list = [500, 400, 300, 200, 100, 75, 60, 50, 40, 30] # Define desired dict lengths\n",
    "\n",
    "# Load full 500-term dicts:\n",
    "inquiry_fin = [elem.strip('\\n') for elem in load_list('data/inquiry500.txt')]\n",
    "\n",
    "# Remove any terms from core dict NOT in current model (these will have to be replaced):\n",
    "for word in inq30:\n",
    "    if word not in list(model.vocab):\n",
    "        inq30.remove(word)\n",
    "        print(\"NOT FOUND IN CORE DICT, REMOVING:\\t\" + word)\n",
    "print()\n",
    "\n",
    "count = 0\n",
    "for word in inquiry_fin:\n",
    "    if word not in list(model.vocab):\n",
    "        inquiry_fin.remove(word)\n",
    "        count += 1\n",
    "        #print(\"NOT FOUND in FULL DICT, REMOVING:\\t\" + word)\n",
    "        \n",
    "for word in inquiry_fin:\n",
    "    if word not in list(model.vocab):\n",
    "        inquiry_fin.remove(word)\n",
    "        count += 1\n",
    "    \n",
    "print(\"Removed \" + str(count) + \" out-of-vocabulary terms from full dictionary.\")\n",
    "\n",
    "print('TESTING DICT LENGTHS BY REMOVING LEAST SIMILAR WORD VECTORS:\\n')\n",
    "\n",
    "for dictlen in lens_list: \n",
    "    inqdict = [],\n",
    "    \n",
    "    inqdict = focus_dict(inquiry_fin, inq30, dictlen, model)\n",
    "    \n",
    "    print(str(dictlen) + \"-term dicts have this much coherence:\", str(dict_cohere(inqdict, model)))\n",
    "    print()"
   ]
  },
  {
   "cell_type": "markdown",
   "metadata": {},
   "source": [
    "## Surprising trends in analyzing how dictionary length affects inter-dictionary opposition and within-dictionary coherence (from this and other analyses):\n",
    "### Greater lengths make for more within-dictionary coherence, but less across-dictionary opposition.\n",
    "### Trimming word vectors randomly yields dictionaries that are less coherent and more opposing than does trimming those word vectors least similar to the others in the dictionary.\n",
    "#### Caveat: The above patterns assume (perhaps consequentially, perhaps not) that as we trim dictionaries, we are keeping a small, core list of concepts (here, 30) intact within each dictionary. The size of this core may influence the above dynamics, as may the relative size of the total dictionary compared to the core list."
   ]
  }
 ],
 "metadata": {
  "kernelspec": {
   "display_name": "Python 3",
   "language": "python",
   "name": "python3"
  },
  "language_info": {
   "codemirror_mode": {
    "name": "ipython",
    "version": 3
   },
   "file_extension": ".py",
   "mimetype": "text/x-python",
   "name": "python",
   "nbconvert_exporter": "python",
   "pygments_lexer": "ipython3",
   "version": "3.7.3"
  }
 },
 "nbformat": 4,
 "nbformat_minor": 2
}
